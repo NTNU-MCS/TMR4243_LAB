{
 "cells": [
  {
   "cell_type": "markdown",
   "metadata": {},
   "source": [
    "Visualization is important. A nice tool to use  is Plotjuggler. Plotjuggler can subscribe to your active topics and plot the numerical data. \n",
    "\n",
    "### How to install Plotjuggler\n",
    "To install Plotjuggler, do\n",
    "```bash\n",
    "sudo apt update\n",
    "```\n",
    "```bash\n",
    "sudo apt install ros-$ROS_DISTRO-plotjuggler-ros\n",
    "```\n",
    "\n",
    "To run plotjugger do\n",
    "```bash\n",
    "ros2 run plotjuggler plotjuggler\n",
    "```\n",
    "\n",
    "### How to use Plotjuggler\n",
    "\n",
    "The creator of Plotjuggler has created some tutorials to teach you the basics. The first tutorial can be found [here](https://slides.com/davidefaconti/introduction-to-plotjuggler).\n",
    "\n",
    "To see the dummy data, run plotjuggler with the -t flag.\n",
    "```bash\n",
    "ros2 run plotjuggler plotjuggler -t\n",
    "```"
   ]
  }
 ],
 "metadata": {
  "language_info": {
   "name": "python"
  }
 },
 "nbformat": 4,
 "nbformat_minor": 2
}
